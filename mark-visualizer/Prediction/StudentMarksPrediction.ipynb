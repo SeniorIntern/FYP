{
 "cells": [
  {
   "cell_type": "code",
   "execution_count": null,
   "id": "d138db11",
   "metadata": {},
   "outputs": [],
   "source": [
    "# Import necessary libraries\n",
    "import numpy as np\n",
    "import matplotlib.pyplot as mpt\n",
    "import pandas as pd"
   ]
  },
  {
   "cell_type": "code",
   "execution_count": null,
   "id": "4886b706",
   "metadata": {},
   "outputs": [],
   "source": [
    "# load data and read through pandas library from csv file\n",
    "data = pd.read_csv('CSV_Data/student-mat.csv')\n",
    "data.head() # show head(top few row) of the dataframe"
   ]
  },
  {
   "cell_type": "code",
   "execution_count": null,
   "id": "c760bd3b",
   "metadata": {},
   "outputs": [],
   "source": [
    "# check the shape(rows and columns) of the dataframe\n",
    "data.shape"
   ]
  },
  {
   "cell_type": "code",
   "execution_count": null,
   "id": "6ec4aedc",
   "metadata": {},
   "outputs": [],
   "source": [
    "# check the data type of each column if the values are numeric, string.\n",
    "num_columns = [name for name in data.columns if data[name].dtype in ['int64', 'float64']]\n",
    "str_columns = [name for name in data.columns if data[name].dtype == 'object']"
   ]
  },
  {
   "cell_type": "code",
   "execution_count": null,
   "id": "3db8bae0",
   "metadata": {},
   "outputs": [],
   "source": [
    "# Display columns using numeric data\n",
    "num_columns"
   ]
  },
  {
   "cell_type": "code",
   "execution_count": null,
   "id": "b690a03a",
   "metadata": {},
   "outputs": [],
   "source": [
    "# Display columns using string data\n",
    "str_columns"
   ]
  },
  {
   "cell_type": "code",
   "execution_count": null,
   "id": "5f514ea2",
   "metadata": {},
   "outputs": [],
   "source": [
    "# display the columns using string data type\n",
    "for x in str_columns:\n",
    "  print(x,\" = \",data[x].unique())"
   ]
  },
  {
   "cell_type": "code",
   "execution_count": null,
   "id": "961f382f",
   "metadata": {},
   "outputs": [],
   "source": [
    "# encode the string values to numeric values\n",
    "from sklearn.preprocessing import LabelEncoder\n",
    "le=LabelEncoder()\n",
    "for i in list(str_columns):\n",
    "    data[i]=le.fit_transform(data[i])"
   ]
  },
  {
   "cell_type": "code",
   "execution_count": null,
   "id": "5d614362",
   "metadata": {},
   "outputs": [],
   "source": [
    "# Display the first 5 rows of the dataframe after encoding the string values\n",
    "data.head()"
   ]
  },
  {
   "cell_type": "code",
   "execution_count": null,
   "id": "79cb6fdb",
   "metadata": {},
   "outputs": [],
   "source": [
    "# dropping columns from x, adding column g3(third year grade) on Y\n",
    "x = data.drop(columns=['G3','address','famsize','Pstatus','paid','romantic','health','reason','guardian','traveltime','goout','Dalc','health','nursery','traveltime','reason'],axis=1)\n",
    "y = data['G3']"
   ]
  },
  {
   "cell_type": "code",
   "execution_count": null,
   "id": "679874de",
   "metadata": {},
   "outputs": [],
   "source": [
    "# Display the columns(remaning) after dropping the columns\n",
    "print (x)"
   ]
  },
  {
   "cell_type": "code",
   "execution_count": null,
   "id": "033e417c",
   "metadata": {},
   "outputs": [],
   "source": [
    "# Display top 5 rows of the dataframe\n",
    "x.head()"
   ]
  },
  {
   "cell_type": "code",
   "execution_count": null,
   "id": "8328edcf",
   "metadata": {},
   "outputs": [],
   "source": [
    "# split data into 4 arrays (x_train, x_test, y_train, y_test)\n",
    "# call the train_test_split from sklearn model & store 25% of data in test set\n",
    "from sklearn.model_selection import train_test_split\n",
    "x_train, x_test, y_train, y_test = train_test_split(x, y, test_size=0.25, random_state=0)"
   ]
  },
  {
   "cell_type": "code",
   "execution_count": null,
   "id": "86b250f6",
   "metadata": {},
   "outputs": [],
   "source": [
    "# Fit our model on x_train & y_train for using linear regression\n",
    "from sklearn.linear_model import LinearRegression\n",
    "reg = LinearRegression()\n",
    "reg.fit(x_train,y_train)"
   ]
  },
  {
   "cell_type": "code",
   "execution_count": null,
   "id": "2200adcf",
   "metadata": {},
   "outputs": [],
   "source": [
    "weights=reg.coef_ # give the coefficient of the features of dataset\n",
    "bais=reg.intercept_ # gives the point where the function crosses the y-axis.\n",
    "print(weights,bais)"
   ]
  },
  {
   "cell_type": "code",
   "execution_count": null,
   "id": "c9bbb9b2",
   "metadata": {},
   "outputs": [],
   "source": [
    "# call predict function and calculate accuracy percentage in per hundred \n",
    "# using regression score(r2_score) to evaluate the performance of a linear regression model. \n",
    "from sklearn.metrics import r2_score\n",
    "y_pred = reg.predict(x_test)\n",
    "print(r2_score(y_test, y_pred))"
   ]
  },
  {
   "cell_type": "code",
   "execution_count": null,
   "id": "b43b63fa",
   "metadata": {},
   "outputs": [],
   "source": [
    "# Display accuracy to user\n",
    "acc = r2_score(y_test, y_pred)*100\n",
    "print(\"\\n\")\n",
    "print(\"This program has accuracy of: %f\" % acc + \" percentage\")\n",
    "print(\"\\n\")"
   ]
  },
  {
   "cell_type": "code",
   "execution_count": null,
   "id": "7c0f3d69",
   "metadata": {},
   "outputs": [],
   "source": [
    "# using metrics from sklearn library to calculate the mean squared error \n",
    "# calculating an error score helpts to summarize the predictive skill of a model.\n",
    "from sklearn import metrics\n",
    "print('The mean absolute error is:', metrics.mean_absolute_error(y_test, y_pred))\n",
    "print('The mean Square error is:', metrics.mean_squared_error(y_test, y_pred))\n",
    "print('The root mean square error is:', np.sqrt(metrics.mean_squared_error(y_test, y_pred)))"
   ]
  },
  {
   "cell_type": "code",
   "execution_count": null,
   "id": "61ca0eea",
   "metadata": {},
   "outputs": [],
   "source": [
    "# Printing(plotting) predictions\n",
    "# plot the graph of predicted vs actual values\n",
    "mpt.scatter(y_test,y_pred)\n",
    "mpt.xlabel('Test values')\n",
    "mpt.ylabel('Predicted values')"
   ]
  },
  {
   "cell_type": "code",
   "execution_count": null,
   "id": "b2dbee74",
   "metadata": {},
   "outputs": [],
   "source": [
    "# Greet User\n",
    "print(\"Hello, Welcome to Student Marks Prediction\")\n",
    "print(\"This program is designed to predict student marks based on their personal information\")\n",
    "# one line space\n",
    "print(\"\")\n",
    "print(\"Give binary input where mentioned. Enter 1 for yes and 0 for no.\")\n",
    "print(\"\")\n",
    "# take user inputs\n",
    "print(\"Choose school (binary: Gabriel Pereira or Mousinho da Silveira): \")\n",
    "school = input()\n",
    "print(\"Choose sex (binary: female or male): \")\n",
    "sex = input()\n",
    "print(\"Enter age (numeric: from 15 to 22): \")\n",
    "age = input()\n",
    "# mother father education level- describe\n",
    "print(\"Enter Mother education level (numeric: 0 - none, 1 - primary education (4th grade), 2 - 5th to 9th grade, 3 - secondary education or 4 - higher education): \")\n",
    "Medu = input()\n",
    "print(\"Enter Father education level (numeric: 0 - none, 1 - primary education (4th grade), 2 - 5th to 9th grade, 3 - secondary education or 4 - higher education): \")\n",
    "Fedu = input()\n",
    "print(\"Choose Mother job (numeric: 0 - at_home, 1 - health, 2 - other, 3 - services, 4 - teacher ): \")\n",
    "Mjob = input()\n",
    "print(\"Choose Father job (numeric: 0 - at_home, 1 - health, 2 - other, 3 - services, 4 - teacher ): \")\n",
    "Fjob = input()\n",
    "print(\"Enter weekly study time (numeric: 1 - <2 hours, 2 - 2 to 5 hours, 3 - 5 to 10 hours, or 4 - >10 hours): \")\n",
    "studytime = input()\n",
    "print(\"Enter number of past class failures (numeric: n if 1<=n<3, else 4): \")\n",
    "failures = input()\n",
    "print(\"Do you have extra educational support (binary: yes or no): \")\n",
    "schoolsup = input()\n",
    "print(\"Do you have family educational support (binary: yes or no): \")\n",
    "famsup = input()\n",
    "print(\"Do you enroll in extra-curricular activities (binary: yes or no): \")\n",
    "activities = input()\n",
    "print(\"Do you want to take higher education (binary: yes or no): \")\n",
    "higher = input()\n",
    "print(\"Do you have internet access (binary: yes or no): \")\n",
    "internet = input()\n",
    "print(\"Do you have quality of family relationships (numeric: from 1 - very bad to 5 - excellent): \")\n",
    "famrel = input()\n",
    "print(\"Do you have free time after school (numeric: from 1 - very low to 5 - very high): \")\n",
    "freetime = input()\n",
    "print(\"How much is your weekend alcohol consumption (numeric: from 1 - very low to 5 - very high)\")\n",
    "Walc = input()\n",
    "print(\"Enter you total days of school absences (numeric: from 0 to 93): \")\n",
    "absences = input()\n",
    "print(\"Enter your first year grade (numeric: from 0 to 20): \")\n",
    "G1 = input()\n",
    "print(\"Enter your second year grade (numeric: from 0 to 20): \")\n",
    "G2 = input()"
   ]
  },
  {
   "cell_type": "code",
   "execution_count": null,
   "id": "3c536670",
   "metadata": {},
   "outputs": [],
   "source": [
    "try:\n",
    "    pred = reg.predict([[school,sex,age,Medu,Fedu,Mjob,Fjob,studytime,failures,schoolsup,famsup,activities,higher,internet,famrel,freetime,Walc,absences,G1,G2]])\n",
    "    print(\"\")\n",
    "    print(\"The Final Grade will be:\", pred)\n",
    "    print(\"\")\n",
    "except:\n",
    "    print(\"Enter valid values. You can only enter numeric values within the range as asked.\")"
   ]
  }
 ],
 "metadata": {
  "interpreter": {
   "hash": "99125199cb9558f3ae55752e0aacd43b73ee3c5d5435833f943c5dd44b1f3015"
  },
  "kernelspec": {
   "display_name": "Python 3.10.2 64-bit",
   "language": "python",
   "name": "python3"
  },
  "language_info": {
   "codemirror_mode": {
    "name": "ipython",
    "version": 3
   },
   "file_extension": ".py",
   "mimetype": "text/x-python",
   "name": "python",
   "nbconvert_exporter": "python",
   "pygments_lexer": "ipython3",
   "version": "3.10.2"
  }
 },
 "nbformat": 4,
 "nbformat_minor": 5
}
